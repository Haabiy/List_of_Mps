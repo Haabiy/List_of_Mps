{
 "cells": [
  {
   "cell_type": "code",
   "execution_count": 6,
   "id": "e8c9b24e",
   "metadata": {},
   "outputs": [],
   "source": [
    "from bs4 import BeautifulSoup\n",
    "from selenium import webdriver\n",
    "from webdriver_manager.chrome import ChromeDriverManager\n",
    "from selenium.webdriver.common.by import By\n",
    "from selenium.webdriver.common.keys import Keys\n",
    "import csv, codecs\n",
    "from time import sleep"
   ]
  },
  {
   "cell_type": "code",
   "execution_count": 7,
   "id": "b803f91f",
   "metadata": {},
   "outputs": [
    {
     "name": "stderr",
     "output_type": "stream",
     "text": [
      "\n",
      "\n",
      "====== WebDriver manager ======\n",
      "Current google-chrome version is 102.0.5005\n",
      "Get LATEST chromedriver version for 102.0.5005 google-chrome\n",
      "Driver [C:\\Users\\adema\\.wdm\\drivers\\chromedriver\\win32\\102.0.5005.61\\chromedriver.exe] found in cache\n",
      "C:\\Users\\adema\\AppData\\Local\\Temp\\ipykernel_3492\\3768720065.py:2: DeprecationWarning: executable_path has been deprecated, please pass in a Service object\n",
      "  driver = webdriver.Chrome(ChromeDriverManager().install())\n"
     ]
    }
   ],
   "source": [
    "# Chrome as my web browser, signing into my Sales navigator account\n",
    "driver = webdriver.Chrome(ChromeDriverManager().install())\n",
    "url = 'https://elections.parlons-velo.fr/2022/legislatives/liste.html'\n",
    "driver.get(url)"
   ]
  },
  {
   "cell_type": "code",
   "execution_count": 74,
   "id": "f05efbcd",
   "metadata": {},
   "outputs": [],
   "source": [
    "store_names, et, parti_,circo_, percentage= ([] for i in range(5))\n",
    "soup = BeautifulSoup(driver.page_source, 'html.parser')\n",
    "for div in soup.find_all('div', {'class' : 'col2'}):\n",
    "    name = div.find('div', {'class': 'titulaire'})\n",
    "    et_ = div.find('div', {'class': 'suppleant'})\n",
    "    par = div.find('div', {'class': 'parti'})\n",
    "    cir = div.find('div', {'class': 'circo'})\n",
    "                           \n",
    "    store_names.append(name.text.strip())\n",
    "    et.append(et_.text.strip())\n",
    "    parti_.append(par.text.strip())                              \n",
    "    circo_.append(cir.text.strip())\n",
    "\n",
    "for div in soup.find_all('div', {'class' : 'bulle 1er'}):\n",
    "    percentage.append(div.text.strip())"
   ]
  },
  {
   "cell_type": "code",
   "execution_count": 75,
   "id": "746e4da5",
   "metadata": {},
   "outputs": [],
   "source": [
    "with codecs.open(r\"List_of_MPs.csv\", 'w', encoding='utf-8') as f:\n",
    "    for p in range(0, len(store_names)):\n",
    "        try:\n",
    "            #print(p + 1, filteredname[p], filteredposition[p], filteredlocation[p], filteredgetlinklist[p])\n",
    "            wr = csv.writer(f)\n",
    "            wr.writerow([store_names[p], et[p], parti_[p], circo_[p], percentage[p]])\n",
    "        except Exception:\n",
    "            pass"
   ]
  },
  {
   "cell_type": "code",
   "execution_count": null,
   "id": "b5328155",
   "metadata": {},
   "outputs": [],
   "source": []
  }
 ],
 "metadata": {
  "kernelspec": {
   "display_name": "Python 3 (ipykernel)",
   "language": "python",
   "name": "python3"
  },
  "language_info": {
   "codemirror_mode": {
    "name": "ipython",
    "version": 3
   },
   "file_extension": ".py",
   "mimetype": "text/x-python",
   "name": "python",
   "nbconvert_exporter": "python",
   "pygments_lexer": "ipython3",
   "version": "3.10.4"
  }
 },
 "nbformat": 4,
 "nbformat_minor": 5
}
